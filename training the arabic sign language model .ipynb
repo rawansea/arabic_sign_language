{
 "cells": [
  {
   "cell_type": "markdown",
   "id": "3c0dc907",
   "metadata": {},
   "source": [
    "# Import necessary libraries"
   ]
  },
  {
   "cell_type": "code",
   "execution_count": 1,
   "id": "f34ff783",
   "metadata": {},
   "outputs": [],
   "source": [
    "# Import necessary libraries\n",
    "import torch\n",
    "import torch.nn as nn\n",
    "import torch.optim as optim\n",
    "from torch.utils.data import DataLoader, Dataset\n",
    "from torchvision import transforms\n",
    "import os\n",
    "import cv2\n",
    "import matplotlib.pyplot as plt\n"
   ]
  },
  {
   "cell_type": "markdown",
   "id": "a6c53739",
   "metadata": {},
   "source": [
    "## Define the custom Dataset class"
   ]
  },
  {
   "cell_type": "code",
   "execution_count": 2,
   "id": "8e71ea77",
   "metadata": {},
   "outputs": [],
   "source": [
    "# Define the custom Dataset class\n",
    "class ImageDataset(Dataset):\n",
    "    def __init__(self, directory, labels, transform=None):\n",
    "        self.directory = directory  # Directory containing the images\n",
    "        self.labels = labels  # List of labels (classes)\n",
    "        self.transform = transform  # Transformations to be applied to images\n",
    "        self.data = []  # List to hold image data and labels\n",
    "        self.load_dataset()  # Load the dataset when initializing\n",
    "\n",
    "    # Method to load images and their labels into the dataset\n",
    "    def load_dataset(self):\n",
    "        for idx, label in enumerate(self.labels):\n",
    "            path = os.path.join(self.directory, label)\n",
    "            files = os.listdir(path)\n",
    "            for file in files:\n",
    "                img_path = os.path.join(path, file)\n",
    "                img = cv2.resize(cv2.imread(img_path), (50, 50))  # Resize images to 50x50 pixels\n",
    "                self.data.append((img, idx))  # Append image and label index\n",
    "\n",
    "    # Method to return the length of the dataset\n",
    "    def __len__(self):\n",
    "        return len(self.data)\n",
    "\n",
    "    # Method to get an item (image and label) from the dataset by index\n",
    "    def __getitem__(self, idx):\n",
    "        img, label = self.data[idx]\n",
    "        if self.transform:\n",
    "            img = self.transform(img)  # Apply transformations if any\n",
    "        return img, label\n"
   ]
  },
  {
   "cell_type": "markdown",
   "id": "8c7a85f9",
   "metadata": {},
   "source": [
    " ## Define transformations for data augmentation and normalization"
   ]
  },
  {
   "cell_type": "code",
   "execution_count": 3,
   "id": "03e3b60f",
   "metadata": {},
   "outputs": [],
   "source": [
    "#  Define transformations for data augmentation and normalization\n",
    "transform = transforms.Compose([\n",
    "    transforms.ToPILImage(),  # Convert images to PIL format\n",
    "    transforms.RandomHorizontalFlip(),  # Randomly flip images horizontally\n",
    "    transforms.RandomRotation(10),  # Randomly rotate images by ±10 degrees\n",
    "    transforms.ToTensor(),  # Convert images to PyTorch tensors\n",
    "    transforms.Normalize(mean=[0.485, 0.456, 0.406], std=[0.229, 0.224, 0.225]),  # Normalize images\n",
    "])\n"
   ]
  },
  {
   "cell_type": "markdown",
   "id": "8986a416",
   "metadata": {},
   "source": [
    "## Load dataset and create DataLoader instances"
   ]
  },
  {
   "cell_type": "code",
   "execution_count": 4,
   "id": "b2a3964f",
   "metadata": {},
   "outputs": [],
   "source": [
    "# Load dataset and create DataLoader instances\n",
    "data_dir = r\"C:\\Users\\rasha\\Downloads\\augmented_arabic_sign_language_dataset_small\"\n",
    "uniq_labels = sorted(os.listdir(data_dir))  # List of unique labels sorted alphabetically\n",
    "\n",
    "# Create the dataset\n",
    "dataset = ImageDataset(data_dir, uniq_labels, transform)\n",
    "\n",
    "# Split the dataset into training, validation, and test sets (80/10/10)\n",
    "train_size = int(0.8 * len(dataset))\n",
    "validation_size = int(0.1 * len(dataset))\n",
    "test_size = len(dataset) - train_size - validation_size\n",
    "train_dataset, validation_dataset, test_dataset = torch.utils.data.random_split(dataset, [train_size, validation_size, test_size])\n",
    "\n",
    "# Create data loaders for batching and shuffling\n",
    "train_loader = DataLoader(train_dataset, batch_size=32, shuffle=True)\n",
    "validation_loader = DataLoader(validation_dataset, batch_size=32, shuffle=False)\n",
    "test_loader = DataLoader(test_dataset, batch_size=32, shuffle=False)\n"
   ]
  },
  {
   "cell_type": "markdown",
   "id": "d015f054",
   "metadata": {},
   "source": [
    "##  Define the Convolutional Neural Network (CNN) model"
   ]
  },
  {
   "cell_type": "code",
   "execution_count": 5,
   "id": "3ee360ec",
   "metadata": {},
   "outputs": [],
   "source": [
    "# Define the Convolutional Neural Network (CNN) model\n",
    "class ConvNet(nn.Module):\n",
    "    def __init__(self):\n",
    "        super(ConvNet, self).__init__()\n",
    "        self.layer1 = nn.Sequential(\n",
    "            nn.Conv2d(3, 16, kernel_size=3, padding=1),  # First convolutional layer\n",
    "            nn.ReLU(),  # ReLU activation\n",
    "            nn.BatchNorm2d(16),  # Batch normalization\n",
    "            nn.Conv2d(16, 16, kernel_size=3, padding=1),  # Second convolutional layer\n",
    "            nn.ReLU(),\n",
    "            nn.MaxPool2d(kernel_size=2, stride=2),  # Max pooling\n",
    "            nn.Dropout(0.25)  # Dropout to prevent overfitting\n",
    "        )\n",
    "        self.layer2 = nn.Sequential(\n",
    "            nn.Conv2d(16, 32, kernel_size=3, padding=1),  # Third convolutional layer\n",
    "            nn.ReLU(),\n",
    "            nn.BatchNorm2d(32),\n",
    "            nn.Conv2d(32, 32, kernel_size=3, padding=1),  # Fourth convolutional layer\n",
    "            nn.ReLU(),\n",
    "            nn.MaxPool2d(kernel_size=2, stride=2),\n",
    "            nn.Dropout(0.25)\n",
    "        )\n",
    "        self.layer3 = nn.Sequential(\n",
    "            nn.Conv2d(32, 64, kernel_size=3, padding=1),  # Fifth convolutional layer\n",
    "            nn.ReLU(),\n",
    "            nn.BatchNorm2d(64),\n",
    "            nn.Conv2d(64, 64, kernel_size=3, padding=1),  # Sixth convolutional layer\n",
    "            nn.ReLU(),\n",
    "            nn.Dropout(0.25)\n",
    "        )\n",
    "        self.flatten = nn.Flatten()  # Flatten the feature maps for fully connected layers\n",
    "        self.fc1 = nn.Linear(64 * 12 * 12, 128)  # First fully connected layer\n",
    "        self.fc2 = nn.Linear(128, len(uniq_labels))  # Output layer\n",
    "\n",
    "    # Define the forward pass of the network\n",
    "    def forward(self, x):\n",
    "        x = self.layer1(x)\n",
    "        x = self.layer2(x)\n",
    "        x = self.layer3(x)\n",
    "        x = self.flatten(x)\n",
    "        x = self.fc1(x)\n",
    "        x = self.fc2(x)\n",
    "        return x\n",
    "\n",
    "# Set the device to GPU if available, otherwise CPU\n",
    "device = torch.device(\"cuda\" if torch.cuda.is_available() else \"cpu\")\n",
    "model = ConvNet().to(device)\n"
   ]
  },
  {
   "cell_type": "markdown",
   "id": "304276ad",
   "metadata": {},
   "source": [
    "## Define loss function and optimizer"
   ]
  },
  {
   "cell_type": "code",
   "execution_count": 6,
   "id": "b79b6fd0",
   "metadata": {},
   "outputs": [],
   "source": [
    "# Define loss function and optimizer\n",
    "criterion = nn.CrossEntropyLoss()\n",
    "optimizer = optim.Adam(model.parameters(), lr=0.001)\n"
   ]
  },
  {
   "cell_type": "markdown",
   "id": "262a58e0",
   "metadata": {},
   "source": [
    "## Define the training function"
   ]
  },
  {
   "cell_type": "code",
   "execution_count": 7,
   "id": "35383a88",
   "metadata": {},
   "outputs": [],
   "source": [
    "# Define the training function\n",
    "def train_model(model, train_loader, validation_loader, num_epochs=20):\n",
    "    # Lists to store training and validation losses and accuracies\n",
    "    train_losses, train_accs, val_losses, val_accs = [], [], [], []\n",
    "\n",
    "    # Loop over the number of epochs\n",
    "    for epoch in range(num_epochs):\n",
    "        model.train()  # Set the model to training mode\n",
    "        total_loss, total_correct, total_samples = 0, 0, 0  # Initialize counters\n",
    "\n",
    "        # Loop over batches of training data\n",
    "        for images, labels in train_loader:\n",
    "            images = images.to(device)  # Move images to the device (GPU/CPU)\n",
    "            labels = labels.to(device)  # Move labels to the device\n",
    "            outputs = model(images)  # Forward pass: compute model output\n",
    "            loss = criterion(outputs, labels)  # Compute loss\n",
    "            optimizer.zero_grad()  # Zero the gradients\n",
    "            loss.backward()  # Backward pass: compute gradients\n",
    "            optimizer.step()  # Update model parameters\n",
    "            total_loss += loss.item()  # Accumulate loss\n",
    "            _, predicted = torch.max(outputs, 1)  # Get predicted labels\n",
    "            total_correct += (predicted == labels).sum().item()  # Count correct predictions\n",
    "            total_samples += labels.size(0)  # Count total samples\n",
    "\n",
    "        # Calculate average training loss and accuracy for the epoch\n",
    "        train_losses.append(total_loss / len(train_loader))\n",
    "        train_accs.append(total_correct / total_samples)\n",
    "\n",
    "        # Validation phase\n",
    "        model.eval()  # Set the model to evaluation mode\n",
    "        val_loss, val_correct, val_samples = 0, 0, 0  # Initialize counters\n",
    "        with torch.no_grad():  # Disable gradient calculation for validation\n",
    "            for images, labels in validation_loader:\n",
    "                images = images.to(device)  # Move images to the device\n",
    "                labels = labels.to(device)  # Move labels to the device\n",
    "                outputs = model(images)  # Forward pass: compute model output\n",
    "                loss = criterion(outputs, labels)  # Compute loss\n",
    "                val_loss += loss.item()  # Accumulate loss\n",
    "                _, predicted = torch.max(outputs, 1)  # Get predicted labels\n",
    "                val_correct += (predicted == labels).sum().item()  # Count correct predictions\n",
    "                val_samples += labels.size(0)  # Count total samples\n",
    "\n",
    "        # Calculate average validation loss and accuracy for the epoch\n",
    "        val_losses.append(val_loss / len(validation_loader))\n",
    "        val_accs.append(val_correct / val_samples)\n",
    "\n",
    "        # Print epoch statistics\n",
    "        print(f'Epoch {epoch+1}/{num_epochs}, Train Loss: {train_losses[-1]:.4f}, '\n",
    "              f'Train Acc: {train_accs[-1]*100:.2f}%, Val Loss: {val_losses[-1]:.4f}, '\n",
    "              f'Val Acc: {val_accs[-1]*100:.2f}%')\n",
    "\n",
    "    return train_losses, train_accs, val_losses, val_accs\n"
   ]
  },
  {
   "cell_type": "markdown",
   "id": "e9e43161",
   "metadata": {},
   "source": [
    "## Train the model"
   ]
  },
  {
   "cell_type": "code",
   "execution_count": 8,
   "id": "02759fd7",
   "metadata": {},
   "outputs": [
    {
     "name": "stdout",
     "output_type": "stream",
     "text": [
      "Epoch 1/30, Train Loss: 3.1592, Train Acc: 10.34%, Val Loss: 2.8196, Val Acc: 17.94%\n",
      "Epoch 2/30, Train Loss: 2.4253, Train Acc: 27.25%, Val Loss: 2.0125, Val Acc: 37.26%\n",
      "Epoch 3/30, Train Loss: 2.0255, Train Acc: 37.70%, Val Loss: 1.7136, Val Acc: 45.74%\n",
      "Epoch 4/30, Train Loss: 1.8121, Train Acc: 43.96%, Val Loss: 1.5855, Val Acc: 49.13%\n",
      "Epoch 5/30, Train Loss: 1.6763, Train Acc: 47.90%, Val Loss: 1.4816, Val Acc: 54.45%\n",
      "Epoch 6/30, Train Loss: 1.5676, Train Acc: 50.84%, Val Loss: 1.4263, Val Acc: 56.00%\n",
      "Epoch 7/30, Train Loss: 1.4657, Train Acc: 53.47%, Val Loss: 1.3466, Val Acc: 56.90%\n",
      "Epoch 8/30, Train Loss: 1.4172, Train Acc: 55.50%, Val Loss: 1.2655, Val Acc: 60.29%\n",
      "Epoch 9/30, Train Loss: 1.3618, Train Acc: 57.15%, Val Loss: 1.2287, Val Acc: 61.94%\n"
     ]
    },
    {
     "ename": "KeyboardInterrupt",
     "evalue": "",
     "output_type": "error",
     "traceback": [
      "\u001b[1;31m---------------------------------------------------------------------------\u001b[0m",
      "\u001b[1;31mKeyboardInterrupt\u001b[0m                         Traceback (most recent call last)",
      "Cell \u001b[1;32mIn[8], line 3\u001b[0m\n\u001b[0;32m      1\u001b[0m \u001b[38;5;66;03m#  Train the model\u001b[39;00m\n\u001b[0;32m      2\u001b[0m num_epochs \u001b[38;5;241m=\u001b[39m \u001b[38;5;241m30\u001b[39m\n\u001b[1;32m----> 3\u001b[0m train_losses, train_accs, val_losses, val_accs \u001b[38;5;241m=\u001b[39m \u001b[43mtrain_model\u001b[49m\u001b[43m(\u001b[49m\u001b[43mmodel\u001b[49m\u001b[43m,\u001b[49m\u001b[43m \u001b[49m\u001b[43mtrain_loader\u001b[49m\u001b[43m,\u001b[49m\u001b[43m \u001b[49m\u001b[43mvalidation_loader\u001b[49m\u001b[43m,\u001b[49m\u001b[43m \u001b[49m\u001b[43mnum_epochs\u001b[49m\u001b[43m)\u001b[49m\n",
      "Cell \u001b[1;32mIn[7], line 15\u001b[0m, in \u001b[0;36mtrain_model\u001b[1;34m(model, train_loader, validation_loader, num_epochs)\u001b[0m\n\u001b[0;32m     13\u001b[0m loss \u001b[38;5;241m=\u001b[39m criterion(outputs, labels)\n\u001b[0;32m     14\u001b[0m optimizer\u001b[38;5;241m.\u001b[39mzero_grad()\n\u001b[1;32m---> 15\u001b[0m \u001b[43mloss\u001b[49m\u001b[38;5;241;43m.\u001b[39;49m\u001b[43mbackward\u001b[49m\u001b[43m(\u001b[49m\u001b[43m)\u001b[49m\n\u001b[0;32m     16\u001b[0m optimizer\u001b[38;5;241m.\u001b[39mstep()\n\u001b[0;32m     17\u001b[0m total_loss \u001b[38;5;241m+\u001b[39m\u001b[38;5;241m=\u001b[39m loss\u001b[38;5;241m.\u001b[39mitem()\n",
      "File \u001b[1;32m~\\anaconda3\\lib\\site-packages\\torch\\_tensor.py:525\u001b[0m, in \u001b[0;36mTensor.backward\u001b[1;34m(self, gradient, retain_graph, create_graph, inputs)\u001b[0m\n\u001b[0;32m    515\u001b[0m \u001b[38;5;28;01mif\u001b[39;00m has_torch_function_unary(\u001b[38;5;28mself\u001b[39m):\n\u001b[0;32m    516\u001b[0m     \u001b[38;5;28;01mreturn\u001b[39;00m handle_torch_function(\n\u001b[0;32m    517\u001b[0m         Tensor\u001b[38;5;241m.\u001b[39mbackward,\n\u001b[0;32m    518\u001b[0m         (\u001b[38;5;28mself\u001b[39m,),\n\u001b[1;32m   (...)\u001b[0m\n\u001b[0;32m    523\u001b[0m         inputs\u001b[38;5;241m=\u001b[39minputs,\n\u001b[0;32m    524\u001b[0m     )\n\u001b[1;32m--> 525\u001b[0m \u001b[43mtorch\u001b[49m\u001b[38;5;241;43m.\u001b[39;49m\u001b[43mautograd\u001b[49m\u001b[38;5;241;43m.\u001b[39;49m\u001b[43mbackward\u001b[49m\u001b[43m(\u001b[49m\n\u001b[0;32m    526\u001b[0m \u001b[43m    \u001b[49m\u001b[38;5;28;43mself\u001b[39;49m\u001b[43m,\u001b[49m\u001b[43m \u001b[49m\u001b[43mgradient\u001b[49m\u001b[43m,\u001b[49m\u001b[43m \u001b[49m\u001b[43mretain_graph\u001b[49m\u001b[43m,\u001b[49m\u001b[43m \u001b[49m\u001b[43mcreate_graph\u001b[49m\u001b[43m,\u001b[49m\u001b[43m \u001b[49m\u001b[43minputs\u001b[49m\u001b[38;5;241;43m=\u001b[39;49m\u001b[43minputs\u001b[49m\n\u001b[0;32m    527\u001b[0m \u001b[43m\u001b[49m\u001b[43m)\u001b[49m\n",
      "File \u001b[1;32m~\\anaconda3\\lib\\site-packages\\torch\\autograd\\__init__.py:267\u001b[0m, in \u001b[0;36mbackward\u001b[1;34m(tensors, grad_tensors, retain_graph, create_graph, grad_variables, inputs)\u001b[0m\n\u001b[0;32m    262\u001b[0m     retain_graph \u001b[38;5;241m=\u001b[39m create_graph\n\u001b[0;32m    264\u001b[0m \u001b[38;5;66;03m# The reason we repeat the same comment below is that\u001b[39;00m\n\u001b[0;32m    265\u001b[0m \u001b[38;5;66;03m# some Python versions print out the first line of a multi-line function\u001b[39;00m\n\u001b[0;32m    266\u001b[0m \u001b[38;5;66;03m# calls in the traceback and some print out the last line\u001b[39;00m\n\u001b[1;32m--> 267\u001b[0m \u001b[43m_engine_run_backward\u001b[49m\u001b[43m(\u001b[49m\n\u001b[0;32m    268\u001b[0m \u001b[43m    \u001b[49m\u001b[43mtensors\u001b[49m\u001b[43m,\u001b[49m\n\u001b[0;32m    269\u001b[0m \u001b[43m    \u001b[49m\u001b[43mgrad_tensors_\u001b[49m\u001b[43m,\u001b[49m\n\u001b[0;32m    270\u001b[0m \u001b[43m    \u001b[49m\u001b[43mretain_graph\u001b[49m\u001b[43m,\u001b[49m\n\u001b[0;32m    271\u001b[0m \u001b[43m    \u001b[49m\u001b[43mcreate_graph\u001b[49m\u001b[43m,\u001b[49m\n\u001b[0;32m    272\u001b[0m \u001b[43m    \u001b[49m\u001b[43minputs\u001b[49m\u001b[43m,\u001b[49m\n\u001b[0;32m    273\u001b[0m \u001b[43m    \u001b[49m\u001b[43mallow_unreachable\u001b[49m\u001b[38;5;241;43m=\u001b[39;49m\u001b[38;5;28;43;01mTrue\u001b[39;49;00m\u001b[43m,\u001b[49m\n\u001b[0;32m    274\u001b[0m \u001b[43m    \u001b[49m\u001b[43maccumulate_grad\u001b[49m\u001b[38;5;241;43m=\u001b[39;49m\u001b[38;5;28;43;01mTrue\u001b[39;49;00m\u001b[43m,\u001b[49m\n\u001b[0;32m    275\u001b[0m \u001b[43m\u001b[49m\u001b[43m)\u001b[49m\n",
      "File \u001b[1;32m~\\anaconda3\\lib\\site-packages\\torch\\autograd\\graph.py:744\u001b[0m, in \u001b[0;36m_engine_run_backward\u001b[1;34m(t_outputs, *args, **kwargs)\u001b[0m\n\u001b[0;32m    742\u001b[0m     unregister_hooks \u001b[38;5;241m=\u001b[39m _register_logging_hooks_on_whole_graph(t_outputs)\n\u001b[0;32m    743\u001b[0m \u001b[38;5;28;01mtry\u001b[39;00m:\n\u001b[1;32m--> 744\u001b[0m     \u001b[38;5;28;01mreturn\u001b[39;00m Variable\u001b[38;5;241m.\u001b[39m_execution_engine\u001b[38;5;241m.\u001b[39mrun_backward(  \u001b[38;5;66;03m# Calls into the C++ engine to run the backward pass\u001b[39;00m\n\u001b[0;32m    745\u001b[0m         t_outputs, \u001b[38;5;241m*\u001b[39margs, \u001b[38;5;241m*\u001b[39m\u001b[38;5;241m*\u001b[39mkwargs\n\u001b[0;32m    746\u001b[0m     )  \u001b[38;5;66;03m# Calls into the C++ engine to run the backward pass\u001b[39;00m\n\u001b[0;32m    747\u001b[0m \u001b[38;5;28;01mfinally\u001b[39;00m:\n\u001b[0;32m    748\u001b[0m     \u001b[38;5;28;01mif\u001b[39;00m attach_logging_hooks:\n",
      "\u001b[1;31mKeyboardInterrupt\u001b[0m: "
     ]
    }
   ],
   "source": [
    "# Train the model\n",
    "num_epochs = 30\n",
    "train_losses, train_accs, val_losses, val_accs = train_model(model, train_loader, validation_loader, num_epochs)\n"
   ]
  },
  {
   "cell_type": "markdown",
   "id": "6917fa6f",
   "metadata": {},
   "source": [
    " ## Plot the training and validation statistics"
   ]
  },
  {
   "cell_type": "code",
   "execution_count": null,
   "id": "d7d6b968",
   "metadata": {},
   "outputs": [],
   "source": [
    "# Plot the training and validation statistics\n",
    "plt.figure(figsize=(10, 5))\n",
    "plt.subplot(1, 2, 1)\n",
    "plt.plot(range(1, num_epochs + 1), train_losses, label='Training Loss')\n",
    "plt.plot(range(1, num_epochs + 1), val_losses, label='Validation Loss')\n",
    "plt.title('Training and Validation Loss')\n",
    "plt.xlabel('Epoch')\n",
    "plt.ylabel('Loss')\n",
    "plt.legend()\n",
    "\n",
    "plt.subplot(1, 2, 2)\n",
    "plt.plot(range(1, num_epochs + 1), train_accs, label='Training Accuracy')\n",
    "plt.plot(range(1, num_epochs + 1), val_accs, label='Validation Accuracy')\n",
    "plt.title('Training and Validation Accuracy')\n",
    "plt.xlabel('Epoch')\n",
    "plt.ylabel('Accuracy')\n",
    "plt.legend()\n",
    "\n",
    "plt.tight_layout()\n",
    "plt.show()\n"
   ]
  },
  {
   "cell_type": "markdown",
   "id": "39b07104",
   "metadata": {},
   "source": [
    "## Plot the training and validation statistics"
   ]
  },
  {
   "cell_type": "code",
   "execution_count": null,
   "id": "383bc6c1",
   "metadata": {},
   "outputs": [],
   "source": [
    "# Save the trained model's state\n",
    "torch.save(model.state_dict(), 'model_best_arabic_after_augmantation.ckpt')\n"
   ]
  }
 ],
 "metadata": {
  "kernelspec": {
   "display_name": "Python 3 (ipykernel)",
   "language": "python",
   "name": "python3"
  },
  "language_info": {
   "codemirror_mode": {
    "name": "ipython",
    "version": 3
   },
   "file_extension": ".py",
   "mimetype": "text/x-python",
   "name": "python",
   "nbconvert_exporter": "python",
   "pygments_lexer": "ipython3",
   "version": "3.9.19"
  }
 },
 "nbformat": 4,
 "nbformat_minor": 5
}
